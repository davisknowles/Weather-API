{
 "cells": [
  {
   "cell_type": "markdown",
   "metadata": {},
   "source": [
    "# WeatherPy\n",
    "----\n",
    "\n",
    "#### Note\n",
    "* Instructions have been included for each segment. You do not have to follow them exactly, but they are included to help you think through the steps."
   ]
  },
  {
   "cell_type": "code",
   "execution_count": 5,
   "metadata": {
    "scrolled": true
   },
   "outputs": [],
   "source": [
    "# Dependencies and Setup\n",
    "import matplotlib.pyplot as plt\n",
    "import pandas as pd\n",
    "import numpy as np\n",
    "import requests\n",
    "import time\n",
    "#from scipy.stats import linregress\n",
    "from scipy import stats\n",
    "# Import API key\n",
    "from api_keys import weather_api_key\n",
    "\n",
    "# Incorporated citipy to determine city based on latitude and longitude\n",
    "from citipy import citipy\n",
    "\n",
    "# Output File (CSV)\n",
    "output_data_file = \"output_data/cities.csv\"\n",
    "\n",
    "# Range of latitudes and longitudes\n",
    "lat_range = (-90, 90)\n",
    "lng_range = (-180, 180)\n",
    "\n"
   ]
  },
  {
   "cell_type": "markdown",
   "metadata": {},
   "source": [
    "## Generate Cities List"
   ]
  },
  {
   "cell_type": "code",
   "execution_count": 6,
   "metadata": {},
   "outputs": [
    {
     "data": {
      "text/plain": [
       "632"
      ]
     },
     "execution_count": 6,
     "metadata": {},
     "output_type": "execute_result"
    }
   ],
   "source": [
    "# List for holding lat_lngs and cities\n",
    "lat_lngs = []\n",
    "cities = []\n",
    "\n",
    "# Create a set of random lat and lng combinations\n",
    "np.random.seed(111)\n",
    "lats = np.random.uniform(lat_range[0], lat_range[1], size=1500)\n",
    "lngs = np.random.uniform(lng_range[0], lng_range[1], size=1500)\n",
    "lat_lngs = zip(lats, lngs)\n",
    "\n",
    "# Identify nearest city for each lat, lng combination\n",
    "for lat_lng in lat_lngs:\n",
    "    city = citipy.nearest_city(lat_lng[0], lat_lng[1]).city_name\n",
    "    \n",
    "    # If the city is unique, then add it to a our cities list\n",
    "    if city not in cities:\n",
    "        cities.append(city)\n",
    "\n",
    "# Print the city count to confirm sufficient count\n",
    "len(cities)"
   ]
  },
  {
   "cell_type": "markdown",
   "metadata": {},
   "source": [
    "<!-- Perform API Calls\n",
    "* Perform a weather check on each city using a series of successive API calls.\n",
    "* Include a print log of each city as it'sbeing processed (with the city number and city name).\n",
    " -->"
   ]
  },
  {
   "cell_type": "code",
   "execution_count": 7,
   "metadata": {},
   "outputs": [],
   "source": [
    "# Perform API calls"
   ]
  },
  {
   "cell_type": "code",
   "execution_count": 8,
   "metadata": {
    "jupyter": {
     "source_hidden": true
    }
   },
   "outputs": [
    {
     "data": {
      "text/plain": [
       "'http://api.openweathermap.org/data/2.5/weather?appid=1ce140a3c50d5a93fdf303c209b63aa3&units=Imperial&q='"
      ]
     },
     "execution_count": 8,
     "metadata": {},
     "output_type": "execute_result"
    }
   ],
   "source": [
    "# Save config information.\n",
    "url = \"http://api.openweathermap.org/data/2.5/weather?\"\n",
    "units = \"Imperial\"\n",
    "\n",
    "# Build partial query URL\n",
    "query_url = f\"{url}appid={weather_api_key}&units={units}&q=\"\n",
    "query_url"
   ]
  },
  {
   "cell_type": "code",
   "execution_count": null,
   "metadata": {},
   "outputs": [],
   "source": []
  },
  {
   "cell_type": "code",
   "execution_count": 9,
   "metadata": {
    "scrolled": true
   },
   "outputs": [
    {
     "name": "stdout",
     "output_type": "stream",
     "text": [
      "Processing record 0 of 632 complete. | khuldabad\n",
      "Processing record 1 of 632 complete. | albany\n",
      "Processing record 2 of 632 complete. | soe\n",
      "Processing record 3 of 632 complete. | atasu\n",
      "Processing record 4 of 632 complete. | lebu\n",
      "Processing record 5 of 632 complete. | bredasdorp\n",
      "Processing record 6 of 632 complete. | hobart\n",
      "Processing record 7 of 632 complete. | asau\n",
      "Processing record 8 of 632 complete. | ahipara\n",
      "Processing record 9 of 632 complete. | khatanga\n",
      "Processing record 10 of 632 complete. | mataura\n",
      "Processing record 11 of 632 complete. | bluff\n",
      "Processing record 12 of 632 complete. | dharchula\n",
      "Processing record 13 of 632 complete. | arlit\n",
      "Processing record 14 of 632 complete. | westport\n",
      "Processing record 15 of 632 complete. | victoria\n",
      "Processing record 16 of 632 complete. | punta arenas\n",
      "Processing record 17 of 632 complete. | saskylakh\n",
      "Processing record 18 of 632 complete. | jasper\n",
      "City not found. Skipping...\n",
      "Processing record 20 of 632 complete. | bethel\n",
      "City not found. Skipping...\n",
      "Processing record 22 of 632 complete. | dawei\n",
      "Processing record 23 of 632 complete. | thompson\n",
      "Processing record 24 of 632 complete. | bengkulu\n",
      "Processing record 25 of 632 complete. | buin\n",
      "Processing record 26 of 632 complete. | busselton\n",
      "City not found. Skipping...\n",
      "Processing record 28 of 632 complete. | birao\n",
      "Processing record 29 of 632 complete. | rikitea\n",
      "Processing record 30 of 632 complete. | tiksi\n",
      "Processing record 31 of 632 complete. | hilo\n",
      "Processing record 32 of 632 complete. | padang\n",
      "Processing record 33 of 632 complete. | chinhoyi\n",
      "Processing record 34 of 632 complete. | tholos\n",
      "Processing record 35 of 632 complete. | jamestown\n",
      "City not found. Skipping...\n",
      "Processing record 37 of 632 complete. | avera\n",
      "City not found. Skipping...\n",
      "Processing record 39 of 632 complete. | ilulissat\n",
      "Processing record 40 of 632 complete. | shitkino\n",
      "Processing record 41 of 632 complete. | cherskiy\n",
      "Processing record 42 of 632 complete. | upernavik\n",
      "Processing record 43 of 632 complete. | sitka\n",
      "Processing record 44 of 632 complete. | polewali\n",
      "Processing record 45 of 632 complete. | machinga\n",
      "Processing record 46 of 632 complete. | geraldton\n",
      "City not found. Skipping...\n",
      "Processing record 48 of 632 complete. | port elizabeth\n",
      "Processing record 49 of 632 complete. | castro\n",
      "Processing record 50 of 632 complete. | itarema\n",
      "Processing record 51 of 632 complete. | cape town\n",
      "Processing record 52 of 632 complete. | avarua\n",
      "Processing record 53 of 632 complete. | torbay\n",
      "Processing record 54 of 632 complete. | nisia floresta\n",
      "Processing record 55 of 632 complete. | pithiviers\n",
      "Processing record 56 of 632 complete. | zabol\n",
      "Processing record 57 of 632 complete. | atuona\n",
      "Processing record 58 of 632 complete. | ponta do sol\n",
      "Processing record 59 of 632 complete. | buala\n",
      "Processing record 60 of 632 complete. | dikson\n",
      "Processing record 61 of 632 complete. | east london\n",
      "City not found. Skipping...\n",
      "Processing record 63 of 632 complete. | khorramabad\n",
      "Processing record 64 of 632 complete. | pangnirtung\n",
      "Processing record 65 of 632 complete. | omboue\n",
      "Processing record 66 of 632 complete. | kieta\n",
      "Processing record 67 of 632 complete. | ushuaia\n",
      "Processing record 68 of 632 complete. | new norfolk\n",
      "City not found. Skipping...\n",
      "City not found. Skipping...\n",
      "Processing record 71 of 632 complete. | yellowknife\n",
      "Processing record 72 of 632 complete. | zyryanka\n",
      "Processing record 73 of 632 complete. | fukue\n",
      "Processing record 74 of 632 complete. | kastamonu\n",
      "Processing record 75 of 632 complete. | santa fe\n",
      "City not found. Skipping...\n",
      "City not found. Skipping...\n",
      "Processing record 78 of 632 complete. | tuktoyaktuk\n",
      "Processing record 79 of 632 complete. | pacific grove\n",
      "Processing record 80 of 632 complete. | itoman\n",
      "Processing record 81 of 632 complete. | klaksvik\n",
      "Processing record 82 of 632 complete. | clocolan\n",
      "Processing record 83 of 632 complete. | gezing\n",
      "City not found. Skipping...\n",
      "Processing record 85 of 632 complete. | manyana\n",
      "Processing record 86 of 632 complete. | krasnotorka\n",
      "Processing record 87 of 632 complete. | stokmarknes\n",
      "Processing record 88 of 632 complete. | naze\n",
      "City not found. Skipping...\n",
      "Processing record 90 of 632 complete. | jasidih\n",
      "City not found. Skipping...\n",
      "Processing record 92 of 632 complete. | kloulklubed\n",
      "Processing record 93 of 632 complete. | jijiang\n",
      "Processing record 94 of 632 complete. | puerto ayora\n",
      "City not found. Skipping...\n",
      "Processing record 96 of 632 complete. | ascension\n",
      "Processing record 97 of 632 complete. | arraial do cabo\n",
      "Processing record 98 of 632 complete. | luderitz\n",
      "Processing record 99 of 632 complete. | pevek\n",
      "Processing record 100 of 632 complete. | vaini\n",
      "Processing record 101 of 632 complete. | marsa matruh\n",
      "Processing record 102 of 632 complete. | la ronge\n",
      "Processing record 103 of 632 complete. | tulsa\n",
      "Processing record 104 of 632 complete. | kapaa\n",
      "Processing record 105 of 632 complete. | grand gaube\n",
      "Processing record 106 of 632 complete. | kruisfontein\n",
      "Processing record 107 of 632 complete. | camacari\n",
      "Processing record 108 of 632 complete. | ust-maya\n",
      "Processing record 109 of 632 complete. | kodiak\n",
      "Processing record 110 of 632 complete. | sakakah\n",
      "Processing record 111 of 632 complete. | nikolskoye\n",
      "Processing record 112 of 632 complete. | calbuco\n",
      "Processing record 113 of 632 complete. | tommot\n",
      "City not found. Skipping...\n",
      "Processing record 115 of 632 complete. | barrow\n",
      "Processing record 116 of 632 complete. | yeniseysk\n",
      "Processing record 117 of 632 complete. | sorland\n",
      "Processing record 118 of 632 complete. | belyy yar\n",
      "Processing record 119 of 632 complete. | port alfred\n",
      "Processing record 120 of 632 complete. | horki\n",
      "Processing record 121 of 632 complete. | camana\n",
      "Processing record 122 of 632 complete. | longyearbyen\n",
      "Processing record 123 of 632 complete. | puerto del rosario\n",
      "Processing record 124 of 632 complete. | rorvik\n",
      "Processing record 125 of 632 complete. | ancud\n",
      "Processing record 126 of 632 complete. | souillac\n",
      "Processing record 127 of 632 complete. | whitianga\n",
      "Processing record 128 of 632 complete. | port hardy\n",
      "Processing record 129 of 632 complete. | vila franca do campo\n",
      "Processing record 130 of 632 complete. | yangambi\n",
      "Processing record 131 of 632 complete. | esperance\n",
      "Processing record 132 of 632 complete. | seymchan\n",
      "Processing record 133 of 632 complete. | butaritari\n",
      "Processing record 134 of 632 complete. | west wendover\n",
      "Processing record 135 of 632 complete. | lalsk\n",
      "Processing record 136 of 632 complete. | campos belos\n",
      "Processing record 137 of 632 complete. | high level\n",
      "Processing record 138 of 632 complete. | tasiilaq\n",
      "Processing record 139 of 632 complete. | urumqi\n",
      "Processing record 140 of 632 complete. | havoysund\n",
      "City not found. Skipping...\n",
      "Processing record 142 of 632 complete. | kundiawa\n",
      "Processing record 143 of 632 complete. | usinsk\n",
      "Processing record 144 of 632 complete. | varberg\n",
      "Processing record 145 of 632 complete. | teknaf\n",
      "Processing record 146 of 632 complete. | mersing\n",
      "Processing record 147 of 632 complete. | oster\n",
      "Processing record 148 of 632 complete. | bentiu\n",
      "Processing record 149 of 632 complete. | nabire\n",
      "City not found. Skipping...\n",
      "Processing record 151 of 632 complete. | ekibastuz\n",
      "City not found. Skipping...\n",
      "Processing record 153 of 632 complete. | georgetown\n",
      "Processing record 154 of 632 complete. | port moresby\n",
      "Processing record 155 of 632 complete. | dalbandin\n",
      "Processing record 156 of 632 complete. | san patricio\n",
      "Processing record 157 of 632 complete. | puerto madero\n",
      "Processing record 158 of 632 complete. | simpang\n",
      "Processing record 159 of 632 complete. | praia da vitoria\n",
      "Processing record 160 of 632 complete. | nanortalik\n",
      "Processing record 161 of 632 complete. | norman wells\n",
      "Processing record 162 of 632 complete. | dalvik\n",
      "Processing record 163 of 632 complete. | fortuna\n",
      "Processing record 164 of 632 complete. | muroto\n",
      "Processing record 165 of 632 complete. | tombouctou\n",
      "Processing record 166 of 632 complete. | la asuncion\n",
      "Processing record 167 of 632 complete. | pathanamthitta\n",
      "Processing record 168 of 632 complete. | havelock\n",
      "Processing record 169 of 632 complete. | markala\n",
      "Processing record 170 of 632 complete. | mar del plata\n",
      "Processing record 171 of 632 complete. | margate\n",
      "Processing record 172 of 632 complete. | mayumba\n",
      "Processing record 173 of 632 complete. | namibe\n"
     ]
    },
    {
     "name": "stdout",
     "output_type": "stream",
     "text": [
      "Processing record 174 of 632 complete. | charters towers\n",
      "Processing record 175 of 632 complete. | seminole\n",
      "Processing record 176 of 632 complete. | tabuk\n",
      "Processing record 177 of 632 complete. | hami\n",
      "Processing record 178 of 632 complete. | rio grande\n",
      "Processing record 179 of 632 complete. | mahebourg\n",
      "Processing record 180 of 632 complete. | bukama\n",
      "Processing record 181 of 632 complete. | rzhev\n",
      "Processing record 182 of 632 complete. | lazaro cardenas\n",
      "Processing record 183 of 632 complete. | morondava\n",
      "Processing record 184 of 632 complete. | novikovo\n",
      "Processing record 185 of 632 complete. | mino\n",
      "City not found. Skipping...\n",
      "Processing record 187 of 632 complete. | comodoro rivadavia\n",
      "Processing record 188 of 632 complete. | zhangjiakou\n",
      "Processing record 189 of 632 complete. | mollendo\n",
      "Processing record 190 of 632 complete. | sortavala\n",
      "Processing record 191 of 632 complete. | lima\n",
      "Processing record 192 of 632 complete. | faanui\n",
      "Processing record 193 of 632 complete. | calama\n",
      "Processing record 194 of 632 complete. | hithadhoo\n",
      "Processing record 195 of 632 complete. | lieksa\n",
      "City not found. Skipping...\n",
      "City not found. Skipping...\n",
      "Processing record 198 of 632 complete. | novobiryusinskiy\n",
      "Processing record 199 of 632 complete. | bangassou\n",
      "Processing record 200 of 632 complete. | bowen\n",
      "Processing record 201 of 632 complete. | chicama\n",
      "Processing record 202 of 632 complete. | venice\n",
      "Processing record 203 of 632 complete. | kathu\n",
      "Processing record 204 of 632 complete. | ribeira grande\n",
      "Processing record 205 of 632 complete. | jalu\n",
      "Processing record 206 of 632 complete. | novobirilyussy\n",
      "Processing record 207 of 632 complete. | alberton\n",
      "Processing record 208 of 632 complete. | harper\n",
      "Processing record 209 of 632 complete. | kalabo\n",
      "Processing record 210 of 632 complete. | carnarvon\n",
      "Processing record 211 of 632 complete. | yumen\n",
      "Processing record 212 of 632 complete. | kirakira\n",
      "Processing record 213 of 632 complete. | golden\n",
      "Processing record 214 of 632 complete. | qaqortoq\n",
      "Processing record 215 of 632 complete. | lorengau\n",
      "Processing record 216 of 632 complete. | mantua\n",
      "Processing record 217 of 632 complete. | middelburg\n",
      "Processing record 218 of 632 complete. | sioux lookout\n",
      "Processing record 219 of 632 complete. | chapais\n",
      "City not found. Skipping...\n",
      "Processing record 221 of 632 complete. | killybegs\n",
      "City not found. Skipping...\n",
      "Processing record 223 of 632 complete. | saint george\n",
      "Processing record 224 of 632 complete. | bogorodskoye\n",
      "Processing record 225 of 632 complete. | east hampton\n",
      "Processing record 226 of 632 complete. | pimentel\n",
      "Processing record 227 of 632 complete. | madera\n",
      "Processing record 228 of 632 complete. | tautira\n",
      "Processing record 229 of 632 complete. | brigg\n",
      "Processing record 230 of 632 complete. | hermanus\n",
      "Processing record 231 of 632 complete. | abha\n",
      "Processing record 232 of 632 complete. | qaanaaq\n",
      "Processing record 233 of 632 complete. | laukaa\n",
      "City not found. Skipping...\n",
      "Processing record 235 of 632 complete. | baruun-urt\n",
      "Processing record 236 of 632 complete. | san nicolas\n",
      "Processing record 237 of 632 complete. | cidreira\n",
      "Processing record 238 of 632 complete. | galle\n",
      "Processing record 239 of 632 complete. | kyra\n",
      "Processing record 240 of 632 complete. | mujiayingzi\n",
      "Processing record 241 of 632 complete. | xushan\n",
      "Processing record 242 of 632 complete. | salo\n",
      "Processing record 243 of 632 complete. | pahrump\n",
      "Processing record 244 of 632 complete. | banda aceh\n",
      "Processing record 245 of 632 complete. | king city\n",
      "Processing record 246 of 632 complete. | port macquarie\n",
      "Processing record 247 of 632 complete. | boa vista\n",
      "Processing record 248 of 632 complete. | bahia honda\n",
      "Processing record 249 of 632 complete. | payao\n",
      "Processing record 250 of 632 complete. | indramayu\n",
      "Processing record 251 of 632 complete. | puerto ayacucho\n",
      "Processing record 252 of 632 complete. | north bend\n",
      "Processing record 253 of 632 complete. | bulawayo\n",
      "Processing record 254 of 632 complete. | lucea\n",
      "Processing record 255 of 632 complete. | vrangel\n",
      "Processing record 256 of 632 complete. | farafangana\n",
      "Processing record 257 of 632 complete. | dumai\n",
      "Processing record 258 of 632 complete. | bubaque\n",
      "Processing record 259 of 632 complete. | passos\n",
      "Processing record 260 of 632 complete. | guiyang\n",
      "Processing record 261 of 632 complete. | valley city\n",
      "Processing record 262 of 632 complete. | rundu\n",
      "Processing record 263 of 632 complete. | half moon bay\n",
      "Processing record 264 of 632 complete. | mount gambier\n",
      "Processing record 265 of 632 complete. | yulara\n",
      "Processing record 266 of 632 complete. | namatanai\n",
      "Processing record 267 of 632 complete. | high rock\n",
      "Processing record 268 of 632 complete. | burnie\n",
      "Processing record 269 of 632 complete. | itupiranga\n",
      "Processing record 270 of 632 complete. | bathsheba\n",
      "Processing record 271 of 632 complete. | tonneins\n",
      "Processing record 272 of 632 complete. | muriwai beach\n",
      "Processing record 273 of 632 complete. | vanavara\n",
      "City not found. Skipping...\n",
      "Processing record 275 of 632 complete. | sao filipe\n",
      "Processing record 276 of 632 complete. | kroonstad\n",
      "Processing record 277 of 632 complete. | vila do maio\n",
      "Processing record 278 of 632 complete. | kampong cham\n",
      "Processing record 279 of 632 complete. | henties bay\n",
      "Processing record 280 of 632 complete. | codrington\n",
      "Processing record 281 of 632 complete. | harnosand\n",
      "Processing record 282 of 632 complete. | havre-saint-pierre\n",
      "Processing record 283 of 632 complete. | waw\n",
      "Processing record 284 of 632 complete. | merauke\n",
      "Processing record 285 of 632 complete. | ciudad guayana\n",
      "Processing record 286 of 632 complete. | ushtobe\n",
      "Processing record 287 of 632 complete. | saint-pierre\n",
      "City not found. Skipping...\n",
      "Processing record 289 of 632 complete. | kaitangata\n",
      "Processing record 290 of 632 complete. | kambove\n",
      "Processing record 291 of 632 complete. | puri\n",
      "Processing record 292 of 632 complete. | bambanglipuro\n",
      "Processing record 293 of 632 complete. | lillooet\n",
      "Processing record 294 of 632 complete. | makushino\n",
      "Processing record 295 of 632 complete. | concepcion del oro\n",
      "Processing record 296 of 632 complete. | okhotsk\n",
      "Processing record 297 of 632 complete. | hamilton\n",
      "Processing record 298 of 632 complete. | tual\n",
      "Processing record 299 of 632 complete. | bac lieu\n",
      "Processing record 300 of 632 complete. | aksarka\n",
      "Processing record 301 of 632 complete. | plettenberg bay\n",
      "Processing record 302 of 632 complete. | isangel\n",
      "Processing record 303 of 632 complete. | alyangula\n",
      "Processing record 304 of 632 complete. | umm lajj\n",
      "Processing record 305 of 632 complete. | sao joao da barra\n",
      "Processing record 306 of 632 complete. | gorele\n",
      "Processing record 307 of 632 complete. | akdepe\n",
      "Processing record 308 of 632 complete. | provideniya\n",
      "Processing record 309 of 632 complete. | holme\n",
      "Processing record 310 of 632 complete. | iquique\n",
      "Processing record 311 of 632 complete. | calvinia\n",
      "Processing record 312 of 632 complete. | raudeberg\n",
      "City not found. Skipping...\n",
      "Processing record 314 of 632 complete. | tezu\n",
      "Processing record 315 of 632 complete. | volchikha\n",
      "City not found. Skipping...\n",
      "Processing record 317 of 632 complete. | shimoda\n",
      "Processing record 318 of 632 complete. | alofi\n",
      "Processing record 319 of 632 complete. | zabaykalsk\n",
      "City not found. Skipping...\n",
      "Processing record 321 of 632 complete. | takoradi\n",
      "Processing record 322 of 632 complete. | nouakchott\n",
      "Processing record 323 of 632 complete. | chipata\n",
      "Processing record 324 of 632 complete. | solenzo\n",
      "Processing record 325 of 632 complete. | luanda\n",
      "Processing record 326 of 632 complete. | gaziantep\n",
      "Processing record 327 of 632 complete. | demba\n",
      "Processing record 328 of 632 complete. | katghora\n",
      "Processing record 329 of 632 complete. | fuyang\n",
      "Processing record 330 of 632 complete. | zhangye\n",
      "Processing record 331 of 632 complete. | lata\n",
      "Processing record 332 of 632 complete. | san andres\n",
      "Processing record 333 of 632 complete. | carauari\n",
      "Processing record 334 of 632 complete. | vostok\n",
      "Processing record 335 of 632 complete. | dingle\n",
      "Processing record 336 of 632 complete. | may pen\n",
      "Processing record 337 of 632 complete. | krasnoselkup\n",
      "Processing record 338 of 632 complete. | katsuura\n",
      "Processing record 339 of 632 complete. | nelson bay\n",
      "Processing record 340 of 632 complete. | dengzhou\n",
      "Processing record 341 of 632 complete. | belomorsk\n"
     ]
    },
    {
     "name": "stdout",
     "output_type": "stream",
     "text": [
      "Processing record 342 of 632 complete. | olafsvik\n",
      "Processing record 343 of 632 complete. | petropavlovsk-kamchatskiy\n",
      "Processing record 344 of 632 complete. | fethiye\n",
      "Processing record 345 of 632 complete. | conceicao da barra\n",
      "Processing record 346 of 632 complete. | bongandanga\n",
      "City not found. Skipping...\n",
      "Processing record 348 of 632 complete. | cabo san lucas\n",
      "City not found. Skipping...\n",
      "Processing record 350 of 632 complete. | vitim\n",
      "Processing record 351 of 632 complete. | karratha\n",
      "Processing record 352 of 632 complete. | turukhansk\n",
      "City not found. Skipping...\n",
      "Processing record 354 of 632 complete. | los llanos de aridane\n",
      "Processing record 355 of 632 complete. | baghmara\n",
      "Processing record 356 of 632 complete. | mpika\n",
      "Processing record 357 of 632 complete. | aklavik\n",
      "Processing record 358 of 632 complete. | nanma\n",
      "Processing record 359 of 632 complete. | ceres\n",
      "Processing record 360 of 632 complete. | paamiut\n",
      "Processing record 361 of 632 complete. | grand falls\n",
      "Processing record 362 of 632 complete. | lengshuitan\n",
      "Processing record 363 of 632 complete. | coquimbo\n",
      "Processing record 364 of 632 complete. | flinders\n",
      "Processing record 365 of 632 complete. | baykit\n",
      "Processing record 366 of 632 complete. | sarkand\n",
      "Processing record 367 of 632 complete. | nome\n",
      "Processing record 368 of 632 complete. | hambantota\n",
      "Processing record 369 of 632 complete. | necochea\n",
      "Processing record 370 of 632 complete. | yamada\n",
      "City not found. Skipping...\n",
      "Processing record 372 of 632 complete. | gizo\n",
      "Processing record 373 of 632 complete. | san vicente\n",
      "Processing record 374 of 632 complete. | ruangwa\n",
      "Processing record 375 of 632 complete. | keti bandar\n",
      "Processing record 376 of 632 complete. | aitape\n",
      "Processing record 377 of 632 complete. | san juan de los morros\n",
      "City not found. Skipping...\n",
      "Processing record 379 of 632 complete. | beloha\n",
      "Processing record 380 of 632 complete. | erzin\n",
      "Processing record 381 of 632 complete. | paita\n",
      "Processing record 382 of 632 complete. | bogale\n",
      "Processing record 383 of 632 complete. | warri\n",
      "Processing record 384 of 632 complete. | aviles\n",
      "Processing record 385 of 632 complete. | sainte-maxime\n",
      "Processing record 386 of 632 complete. | eyrarbakki\n",
      "Processing record 387 of 632 complete. | touros\n",
      "Processing record 388 of 632 complete. | sharan\n",
      "Processing record 389 of 632 complete. | miri\n",
      "Processing record 390 of 632 complete. | ariquemes\n",
      "Processing record 391 of 632 complete. | izumo\n",
      "Processing record 392 of 632 complete. | worland\n",
      "Processing record 393 of 632 complete. | rawson\n",
      "Processing record 394 of 632 complete. | mabaruma\n",
      "Processing record 395 of 632 complete. | fort nelson\n",
      "Processing record 396 of 632 complete. | massakory\n",
      "Processing record 397 of 632 complete. | marienburg\n",
      "Processing record 398 of 632 complete. | balykshi\n",
      "Processing record 399 of 632 complete. | maceio\n",
      "Processing record 400 of 632 complete. | kudahuvadhoo\n",
      "Processing record 401 of 632 complete. | khani\n",
      "Processing record 402 of 632 complete. | lamar\n",
      "Processing record 403 of 632 complete. | banff\n",
      "City not found. Skipping...\n",
      "Processing record 405 of 632 complete. | tiptur\n",
      "Processing record 406 of 632 complete. | clyde river\n",
      "Processing record 407 of 632 complete. | uglovskoye\n",
      "Processing record 408 of 632 complete. | mincivan\n",
      "Processing record 409 of 632 complete. | komsomolskiy\n",
      "Processing record 410 of 632 complete. | zelenoborskiy\n",
      "Processing record 411 of 632 complete. | rio gallegos\n",
      "Processing record 412 of 632 complete. | saint-philippe\n",
      "Processing record 413 of 632 complete. | chokurdakh\n",
      "Processing record 414 of 632 complete. | mweka\n",
      "Processing record 415 of 632 complete. | waldoboro\n",
      "Processing record 416 of 632 complete. | moerai\n",
      "Processing record 417 of 632 complete. | bambous virieux\n",
      "Processing record 418 of 632 complete. | coahuayana\n",
      "Processing record 419 of 632 complete. | edd\n",
      "Processing record 420 of 632 complete. | moranbah\n",
      "Processing record 421 of 632 complete. | ostrovnoy\n",
      "Processing record 422 of 632 complete. | morant bay\n",
      "Processing record 423 of 632 complete. | cockburn town\n",
      "Processing record 424 of 632 complete. | leningradskiy\n",
      "Processing record 425 of 632 complete. | san martin\n",
      "Processing record 426 of 632 complete. | nizhnevartovsk\n",
      "Processing record 427 of 632 complete. | susanville\n",
      "Processing record 428 of 632 complete. | kavieng\n",
      "Processing record 429 of 632 complete. | owando\n",
      "Processing record 430 of 632 complete. | bodden town\n",
      "City not found. Skipping...\n",
      "Processing record 432 of 632 complete. | lokosovo\n",
      "Processing record 433 of 632 complete. | joshimath\n",
      "Processing record 434 of 632 complete. | banjarmasin\n",
      "Processing record 435 of 632 complete. | kimbe\n",
      "Processing record 436 of 632 complete. | airai\n",
      "Processing record 437 of 632 complete. | anshun\n",
      "Processing record 438 of 632 complete. | kuching\n",
      "City not found. Skipping...\n",
      "Processing record 440 of 632 complete. | onega\n",
      "Processing record 441 of 632 complete. | bougouni\n",
      "Processing record 442 of 632 complete. | minot\n",
      "Processing record 443 of 632 complete. | ambon\n",
      "Processing record 444 of 632 complete. | lucapa\n",
      "Processing record 445 of 632 complete. | mahibadhoo\n",
      "Processing record 446 of 632 complete. | laguna\n",
      "Processing record 447 of 632 complete. | mercedes\n",
      "Processing record 448 of 632 complete. | kahului\n",
      "Processing record 449 of 632 complete. | balabac\n",
      "Processing record 450 of 632 complete. | pitea\n",
      "City not found. Skipping...\n",
      "Processing record 452 of 632 complete. | kasongo\n",
      "Processing record 453 of 632 complete. | broome\n",
      "City not found. Skipping...\n",
      "Processing record 455 of 632 complete. | chuy\n",
      "Processing record 456 of 632 complete. | lavrentiya\n",
      "Processing record 457 of 632 complete. | kununurra\n",
      "Processing record 458 of 632 complete. | samarai\n",
      "Processing record 459 of 632 complete. | quatre cocos\n",
      "Processing record 460 of 632 complete. | maniitsoq\n",
      "Processing record 461 of 632 complete. | semey\n",
      "Processing record 462 of 632 complete. | taitung\n",
      "Processing record 463 of 632 complete. | tres arroyos\n",
      "Processing record 464 of 632 complete. | kaeo\n",
      "City not found. Skipping...\n",
      "Processing record 466 of 632 complete. | mlonggo\n",
      "Processing record 467 of 632 complete. | tuatapere\n",
      "Processing record 468 of 632 complete. | uusikaupunki\n",
      "Processing record 469 of 632 complete. | axim\n",
      "Processing record 470 of 632 complete. | lagoa\n",
      "Processing record 471 of 632 complete. | priekule\n",
      "Processing record 472 of 632 complete. | lakes entrance\n",
      "Processing record 473 of 632 complete. | nicolet\n",
      "Processing record 474 of 632 complete. | biak\n",
      "Processing record 475 of 632 complete. | waingapu\n",
      "Processing record 476 of 632 complete. | pangkalanbuun\n",
      "Processing record 477 of 632 complete. | nouadhibou\n",
      "Processing record 478 of 632 complete. | leh\n",
      "Processing record 479 of 632 complete. | meulaboh\n",
      "Processing record 480 of 632 complete. | alexandria\n",
      "Processing record 481 of 632 complete. | vladeni\n",
      "Processing record 482 of 632 complete. | labrea\n",
      "Processing record 483 of 632 complete. | vila velha\n",
      "Processing record 484 of 632 complete. | highland\n",
      "Processing record 485 of 632 complete. | molodizhne\n",
      "Processing record 486 of 632 complete. | beira\n",
      "Processing record 487 of 632 complete. | caconda\n",
      "Processing record 488 of 632 complete. | annau\n",
      "Processing record 489 of 632 complete. | tulagi\n",
      "Processing record 490 of 632 complete. | sisimiut\n",
      "Processing record 491 of 632 complete. | maues\n",
      "Processing record 492 of 632 complete. | luba\n",
      "Processing record 493 of 632 complete. | vestmannaeyjar\n",
      "Processing record 494 of 632 complete. | zheleznodorozhnyy\n",
      "Processing record 495 of 632 complete. | vredendal\n",
      "Processing record 496 of 632 complete. | carbonia\n",
      "Processing record 497 of 632 complete. | port lincoln\n",
      "Processing record 498 of 632 complete. | dongzhen\n",
      "Processing record 499 of 632 complete. | yining\n",
      "Processing record 500 of 632 complete. | ruteng\n",
      "Processing record 501 of 632 complete. | jumla\n",
      "Processing record 502 of 632 complete. | pisco\n",
      "Processing record 503 of 632 complete. | oulu\n",
      "Processing record 504 of 632 complete. | ust-tsilma\n",
      "Processing record 505 of 632 complete. | san quintin\n",
      "Processing record 506 of 632 complete. | kuytun\n",
      "Processing record 507 of 632 complete. | batemans bay\n",
      "Processing record 508 of 632 complete. | walvis bay\n",
      "Processing record 509 of 632 complete. | juazeirinho\n"
     ]
    },
    {
     "name": "stdout",
     "output_type": "stream",
     "text": [
      "Processing record 510 of 632 complete. | oistins\n",
      "Processing record 511 of 632 complete. | pilar\n",
      "Processing record 512 of 632 complete. | saint-augustin\n",
      "Processing record 513 of 632 complete. | okha\n",
      "Processing record 514 of 632 complete. | talnakh\n",
      "Processing record 515 of 632 complete. | vao\n",
      "Processing record 516 of 632 complete. | alta floresta\n",
      "Processing record 517 of 632 complete. | saint-leu\n",
      "Processing record 518 of 632 complete. | guerrero negro\n",
      "Processing record 519 of 632 complete. | beringovskiy\n",
      "Processing record 520 of 632 complete. | sangar\n",
      "Processing record 521 of 632 complete. | kushmurun\n",
      "Processing record 522 of 632 complete. | niamey\n",
      "Processing record 523 of 632 complete. | matara\n",
      "Processing record 524 of 632 complete. | oum hadjer\n",
      "Processing record 525 of 632 complete. | cayenne\n",
      "Processing record 526 of 632 complete. | poltavka\n",
      "Processing record 527 of 632 complete. | horasan\n",
      "Processing record 528 of 632 complete. | saldanha\n",
      "Processing record 529 of 632 complete. | salinopolis\n",
      "Processing record 530 of 632 complete. | prestea\n",
      "Processing record 531 of 632 complete. | khorixas\n",
      "Processing record 532 of 632 complete. | grand forks\n",
      "Processing record 533 of 632 complete. | sistranda\n",
      "Processing record 534 of 632 complete. | haysville\n",
      "Processing record 535 of 632 complete. | talcahuano\n",
      "Processing record 536 of 632 complete. | beyneu\n",
      "Processing record 537 of 632 complete. | nuuk\n",
      "Processing record 538 of 632 complete. | zheshart\n",
      "Processing record 539 of 632 complete. | sovetskiy\n",
      "Processing record 540 of 632 complete. | narsaq\n",
      "Processing record 541 of 632 complete. | inhambane\n",
      "Processing record 542 of 632 complete. | richards bay\n",
      "Processing record 543 of 632 complete. | misratah\n",
      "Processing record 544 of 632 complete. | salalah\n",
      "Processing record 545 of 632 complete. | svetlaya\n",
      "Processing record 546 of 632 complete. | rivadavia\n",
      "Processing record 547 of 632 complete. | tofield\n",
      "Processing record 548 of 632 complete. | isla mujeres\n",
      "Processing record 549 of 632 complete. | coihaique\n",
      "Processing record 550 of 632 complete. | vadso\n",
      "Processing record 551 of 632 complete. | moroto\n",
      "Processing record 552 of 632 complete. | bonthe\n",
      "Processing record 553 of 632 complete. | zhezkazgan\n",
      "Processing record 554 of 632 complete. | evensk\n",
      "Processing record 555 of 632 complete. | haines junction\n",
      "Processing record 556 of 632 complete. | jiuquan\n",
      "Processing record 557 of 632 complete. | malartic\n",
      "Processing record 558 of 632 complete. | atar\n",
      "Processing record 559 of 632 complete. | khasan\n",
      "Processing record 560 of 632 complete. | sampit\n",
      "Processing record 561 of 632 complete. | severo-kurilsk\n",
      "Processing record 562 of 632 complete. | slonim\n",
      "Processing record 563 of 632 complete. | muscat\n",
      "Processing record 564 of 632 complete. | constitucion\n",
      "Processing record 565 of 632 complete. | tarakan\n",
      "City not found. Skipping...\n",
      "Processing record 567 of 632 complete. | manggar\n",
      "Processing record 568 of 632 complete. | solnechnyy\n",
      "Processing record 569 of 632 complete. | ostersund\n",
      "Processing record 570 of 632 complete. | eyl\n",
      "Processing record 571 of 632 complete. | noumea\n",
      "Processing record 572 of 632 complete. | markova\n",
      "Processing record 573 of 632 complete. | abiramam\n",
      "Processing record 574 of 632 complete. | tigil\n",
      "City not found. Skipping...\n",
      "Processing record 576 of 632 complete. | sakaiminato\n",
      "Processing record 577 of 632 complete. | fairbanks\n",
      "Processing record 578 of 632 complete. | asyut\n",
      "Processing record 579 of 632 complete. | sarankhola\n",
      "Processing record 580 of 632 complete. | alice springs\n",
      "Processing record 581 of 632 complete. | neryungri\n",
      "Processing record 582 of 632 complete. | port blair\n",
      "Processing record 583 of 632 complete. | pagudpud\n",
      "Processing record 584 of 632 complete. | ribe\n",
      "Processing record 585 of 632 complete. | iqaluit\n",
      "Processing record 586 of 632 complete. | broken hill\n",
      "Processing record 587 of 632 complete. | le port\n",
      "Processing record 588 of 632 complete. | emerald\n",
      "Processing record 589 of 632 complete. | tura\n",
      "City not found. Skipping...\n",
      "Processing record 591 of 632 complete. | buraydah\n",
      "City not found. Skipping...\n",
      "Processing record 593 of 632 complete. | zhigansk\n",
      "Processing record 594 of 632 complete. | puerto carreno\n",
      "Processing record 595 of 632 complete. | ilo\n",
      "City not found. Skipping...\n",
      "Processing record 597 of 632 complete. | kupang\n",
      "Processing record 598 of 632 complete. | panguna\n",
      "Processing record 599 of 632 complete. | parfenyevo\n",
      "Processing record 600 of 632 complete. | rudbar\n",
      "Processing record 601 of 632 complete. | sinnamary\n",
      "Processing record 602 of 632 complete. | linkoping\n",
      "City not found. Skipping...\n",
      "Processing record 604 of 632 complete. | madison\n",
      "Processing record 605 of 632 complete. | bahir dar\n",
      "Processing record 606 of 632 complete. | zunyi\n",
      "Processing record 607 of 632 complete. | lompoc\n",
      "Processing record 608 of 632 complete. | lykhivka\n",
      "Processing record 609 of 632 complete. | te anau\n",
      "Processing record 610 of 632 complete. | korla\n",
      "Processing record 611 of 632 complete. | pata\n",
      "Processing record 612 of 632 complete. | porto novo\n",
      "City not found. Skipping...\n",
      "Processing record 614 of 632 complete. | kayerkan\n",
      "Processing record 615 of 632 complete. | riyadh\n",
      "Processing record 616 of 632 complete. | mattru\n",
      "Processing record 617 of 632 complete. | kovdor\n",
      "Processing record 618 of 632 complete. | kampong chhnang\n",
      "Processing record 619 of 632 complete. | kilakarai\n",
      "Processing record 620 of 632 complete. | shellbrook\n",
      "Processing record 621 of 632 complete. | lalmohan\n",
      "Processing record 622 of 632 complete. | esqueda\n",
      "Processing record 623 of 632 complete. | gawler\n",
      "Processing record 624 of 632 complete. | lazy\n",
      "Processing record 625 of 632 complete. | aksu\n",
      "Processing record 626 of 632 complete. | kavaratti\n",
      "Processing record 627 of 632 complete. | yaring\n",
      "Processing record 628 of 632 complete. | chama\n",
      "Processing record 629 of 632 complete. | asfi\n",
      "Processing record 630 of 632 complete. | burgersdorp\n",
      "Processing record 631 of 632 complete. | takanabe\n"
     ]
    }
   ],
   "source": [
    "# set up lists to hold reponse info\n",
    "city_name = []\n",
    "lat = []\n",
    "lon = []\n",
    "temp = []\n",
    "humidity = []\n",
    "cloudiness = []\n",
    "windspeed = []\n",
    "country = []\n",
    "date = []\n",
    "num = 0\n",
    "# Loop through the list of cities and perform a request for data on each\n",
    "for num, city in enumerate(cities):\n",
    "    try:\n",
    "        response = requests.get(query_url + city, time.sleep(1)).json()\n",
    "        #print(response)\n",
    "        city_name.append(response['name'])\n",
    "        lat.append(response['coord']['lat'])\n",
    "        lon.append(response['coord']['lon'])\n",
    "        temp.append(response['main']['temp_max'])\n",
    "        humidity.append(response['main']['humidity'])\n",
    "        cloudiness.append(response['clouds']['all'])\n",
    "        windspeed.append(response['wind']['speed'])\n",
    "        country.append(response['sys']['country'])\n",
    "        date.append(response['dt'])\n",
    "       \n",
    "        \n",
    "        print(f'Processing record {num} of {len(cities)} complete. | {city}')\n",
    "    except:\n",
    "        print('City not found. Skipping...')\n"
   ]
  },
  {
   "cell_type": "code",
   "execution_count": null,
   "metadata": {},
   "outputs": [],
   "source": []
  },
  {
   "cell_type": "markdown",
   "metadata": {},
   "source": [
    "### Convert Raw Data to DataFrame\n",
    "* Export the city data into a .csv.\n",
    "* Display the DataFrame"
   ]
  },
  {
   "cell_type": "code",
   "execution_count": 13,
   "metadata": {},
   "outputs": [
    {
     "data": {
      "text/html": [
       "<div>\n",
       "<style scoped>\n",
       "    .dataframe tbody tr th:only-of-type {\n",
       "        vertical-align: middle;\n",
       "    }\n",
       "\n",
       "    .dataframe tbody tr th {\n",
       "        vertical-align: top;\n",
       "    }\n",
       "\n",
       "    .dataframe thead th {\n",
       "        text-align: right;\n",
       "    }\n",
       "</style>\n",
       "<table border=\"1\" class=\"dataframe\">\n",
       "  <thead>\n",
       "    <tr style=\"text-align: right;\">\n",
       "      <th></th>\n",
       "      <th>city</th>\n",
       "      <th>lat</th>\n",
       "      <th>lon</th>\n",
       "      <th>temp</th>\n",
       "      <th>humidity</th>\n",
       "      <th>cloudiness</th>\n",
       "      <th>windspeed</th>\n",
       "      <th>country</th>\n",
       "      <th>date</th>\n",
       "    </tr>\n",
       "  </thead>\n",
       "  <tbody>\n",
       "    <tr>\n",
       "      <th>0</th>\n",
       "      <td>Khuldābād</td>\n",
       "      <td>20.0500</td>\n",
       "      <td>75.1833</td>\n",
       "      <td>55.40</td>\n",
       "      <td>58</td>\n",
       "      <td>67</td>\n",
       "      <td>7.25</td>\n",
       "      <td>IN</td>\n",
       "      <td>1612736555</td>\n",
       "    </tr>\n",
       "    <tr>\n",
       "      <th>1</th>\n",
       "      <td>Albany</td>\n",
       "      <td>42.6001</td>\n",
       "      <td>-73.9662</td>\n",
       "      <td>28.99</td>\n",
       "      <td>64</td>\n",
       "      <td>100</td>\n",
       "      <td>5.01</td>\n",
       "      <td>US</td>\n",
       "      <td>1612736482</td>\n",
       "    </tr>\n",
       "    <tr>\n",
       "      <th>2</th>\n",
       "      <td>Soe</td>\n",
       "      <td>-9.8607</td>\n",
       "      <td>124.2840</td>\n",
       "      <td>66.02</td>\n",
       "      <td>100</td>\n",
       "      <td>100</td>\n",
       "      <td>3.83</td>\n",
       "      <td>ID</td>\n",
       "      <td>1612736557</td>\n",
       "    </tr>\n",
       "    <tr>\n",
       "      <th>3</th>\n",
       "      <td>Atasū</td>\n",
       "      <td>48.6814</td>\n",
       "      <td>71.6433</td>\n",
       "      <td>26.96</td>\n",
       "      <td>95</td>\n",
       "      <td>100</td>\n",
       "      <td>16.28</td>\n",
       "      <td>KZ</td>\n",
       "      <td>1612736558</td>\n",
       "    </tr>\n",
       "    <tr>\n",
       "      <th>4</th>\n",
       "      <td>Lebu</td>\n",
       "      <td>-37.6167</td>\n",
       "      <td>-73.6500</td>\n",
       "      <td>61.57</td>\n",
       "      <td>84</td>\n",
       "      <td>51</td>\n",
       "      <td>5.35</td>\n",
       "      <td>CL</td>\n",
       "      <td>1612736470</td>\n",
       "    </tr>\n",
       "  </tbody>\n",
       "</table>\n",
       "</div>"
      ],
      "text/plain": [
       "        city      lat       lon   temp  humidity  cloudiness  windspeed  \\\n",
       "0  Khuldābād  20.0500   75.1833  55.40        58          67       7.25   \n",
       "1     Albany  42.6001  -73.9662  28.99        64         100       5.01   \n",
       "2        Soe  -9.8607  124.2840  66.02       100         100       3.83   \n",
       "3      Atasū  48.6814   71.6433  26.96        95         100      16.28   \n",
       "4       Lebu -37.6167  -73.6500  61.57        84          51       5.35   \n",
       "\n",
       "  country        date  \n",
       "0      IN  1612736555  \n",
       "1      US  1612736482  \n",
       "2      ID  1612736557  \n",
       "3      KZ  1612736558  \n",
       "4      CL  1612736470  "
      ]
     },
     "execution_count": 13,
     "metadata": {},
     "output_type": "execute_result"
    }
   ],
   "source": [
    "# create a data frame from cities, lat, and temp\n",
    "weather_dict = {\n",
    "    \"city\": city_name,\n",
    "    \"lat\": lat,\n",
    "    \"lon\": lon,\n",
    "    \"temp\": temp,\n",
    "    \"humidity\": humidity,\n",
    "    \"cloudiness\": cloudiness,\n",
    "    \"windspeed\": windspeed,\n",
    "    \"country\": country,\n",
    "    \"date\": date\n",
    "}\n",
    "weather_data = pd.DataFrame(weather_dict)\n",
    "weather_data.head()"
   ]
  },
  {
   "cell_type": "code",
   "execution_count": 14,
   "metadata": {},
   "outputs": [],
   "source": [
    "# export dataframe into csv\n",
    "weather_data.to_csv(\"output_data_file\", index = False)"
   ]
  },
  {
   "cell_type": "markdown",
   "metadata": {},
   "source": [
    "## Inspect the data and remove the cities where the humidity > 100%.\n",
    "----\n",
    "Skip this step if there are no cities that have humidity > 100%. "
   ]
  },
  {
   "cell_type": "code",
   "execution_count": 15,
   "metadata": {},
   "outputs": [
    {
     "data": {
      "text/plain": [
       "100"
      ]
     },
     "execution_count": 15,
     "metadata": {},
     "output_type": "execute_result"
    }
   ],
   "source": [
    "#  Check to see if there are cities with humidity over 100%.\n",
    "max_hum = weather_data['humidity'].max()\n",
    "max_hum"
   ]
  },
  {
   "cell_type": "code",
   "execution_count": null,
   "metadata": {},
   "outputs": [],
   "source": [
    "# for weather in weather_data:\n",
    "#     if humidity > 100\n",
    "    \n",
    "    "
   ]
  },
  {
   "cell_type": "code",
   "execution_count": null,
   "metadata": {},
   "outputs": [],
   "source": [
    "# Make a new DataFrame equal to the city data to drop all humidity outliers by index.\n",
    "# Passing \"inplace=False\" will make a copy of the city_data DataFrame, which we call \"clean_city_data\".\n"
   ]
  },
  {
   "cell_type": "code",
   "execution_count": null,
   "metadata": {},
   "outputs": [],
   "source": [
    "\n"
   ]
  },
  {
   "cell_type": "markdown",
   "metadata": {},
   "source": [
    "## Plotting the Data\n",
    "* Use proper labeling of the plots using plot titles (including date of analysis) and axes labels.\n",
    "* Save the plotted figures as .pngs."
   ]
  },
  {
   "cell_type": "markdown",
   "metadata": {},
   "source": [
    "## Latitude vs. Temperature Plot"
   ]
  },
  {
   "cell_type": "code",
   "execution_count": 17,
   "metadata": {
    "scrolled": true
   },
   "outputs": [
    {
     "data": {
      "image/png": "[encoded data removed]",
      "text/plain": [
       "<Figure size 432x288 with 1 Axes>"
      ]
     },
     "metadata": {
      "needs_background": "light"
     },
     "output_type": "display_data"
    }
   ],
   "source": [
    "# Build a scatter plot for each data type\n",
    "plt.scatter(weather_data[\"lat\"], weather_data[\"temp\"], marker=\"o\")\n",
    "\n",
    "# Incorporate the other graph properties\n",
    "plt.title(\"Temperature in World Cities\")\n",
    "plt.ylabel(\"Temperature\")\n",
    "plt.xlabel(\"Latitude\")\n",
    "plt.grid(True)\n"
   ]
  },
  {
   "cell_type": "markdown",
   "metadata": {},
   "source": [
    "## Latitude vs. Humidity Plot"
   ]
  },
  {
   "cell_type": "code",
   "execution_count": 18,
   "metadata": {},
   "outputs": [
    {
     "data": {
      "image/png": "[encoded data removed]",
      "text/plain": [
       "<Figure size 432x288 with 1 Axes>"
      ]
     },
     "metadata": {
      "needs_background": "light"
     },
     "output_type": "display_data"
    }
   ],
   "source": [
    "# Build a scatter plot for each data type\n",
    "plt.scatter(weather_data[\"lat\"], weather_data[\"humidity\"], marker=\"o\")\n",
    "\n",
    "# Incorporate the other graph properties\n",
    "plt.title(\"Humidity in World Cities\")\n",
    "plt.ylabel(\"Temperature\")\n",
    "plt.xlabel(\"Humidity\")\n",
    "plt.grid(True)\n"
   ]
  },
  {
   "cell_type": "markdown",
   "metadata": {},
   "source": [
    "## Latitude vs. Cloudiness Plot"
   ]
  },
  {
   "cell_type": "code",
   "execution_count": 19,
   "metadata": {},
   "outputs": [
    {
     "data": {
      "image/png": "[encoded data removed]",
      "text/plain": [
       "<Figure size 432x288 with 1 Axes>"
      ]
     },
     "metadata": {
      "needs_background": "light"
     },
     "output_type": "display_data"
    }
   ],
   "source": [
    "# Build a scatter plot for each data type\n",
    "plt.scatter(weather_data[\"lat\"], weather_data[\"cloudiness\"], marker=\"o\")\n",
    "\n",
    "# Incorporate the other graph properties\n",
    "plt.title(\"Cloudiness in World Cities\")\n",
    "plt.ylabel(\"Temperature\")\n",
    "plt.xlabel(\"Cloudiness\")\n",
    "plt.grid(True)\n"
   ]
  },
  {
   "cell_type": "markdown",
   "metadata": {},
   "source": [
    "## Latitude vs. Wind Speed Plot"
   ]
  },
  {
   "cell_type": "code",
   "execution_count": 20,
   "metadata": {},
   "outputs": [
    {
     "data": {
      "image/png": "[encoded data removed]",
      "text/plain": [
       "<Figure size 432x288 with 1 Axes>"
      ]
     },
     "metadata": {
      "needs_background": "light"
     },
     "output_type": "display_data"
    }
   ],
   "source": [
    "# Build a scatter plot for each data type\n",
    "plt.scatter(weather_data[\"lat\"], weather_data[\"windspeed\"], marker=\"o\")\n",
    "\n",
    "# Incorporate the other graph properties\n",
    "plt.title(\"Windspeed in World Cities\")\n",
    "plt.ylabel(\"Temperature\")\n",
    "plt.xlabel(\"Windspeed\")\n",
    "plt.grid(True)\n"
   ]
  },
  {
   "cell_type": "markdown",
   "metadata": {},
   "source": [
    "## Linear Regression"
   ]
  },
  {
   "cell_type": "code",
   "execution_count": 21,
   "metadata": {},
   "outputs": [
    {
     "name": "stdout",
     "output_type": "stream",
     "text": [
      "0      49.260387\n",
      "1      32.820154\n",
      "2      71.066893\n",
      "3      28.386560\n",
      "4      91.302507\n",
      "         ...    \n",
      "579    58.872085\n",
      "580    29.479630\n",
      "581    40.329917\n",
      "582    86.476900\n",
      "583    40.451013\n",
      "Name: lat, Length: 584, dtype: float64\n"
     ]
    }
   ],
   "source": [
    "# Perform a linear regression on temperature vs. latitude\n",
    "(slope, intercept, rvalue, pvalue, stderr) = stats.linregress(weather_data[\"lat\"], weather_data[\"temp\"])\n",
    "\n",
    "# Get regression values\n",
    "regress_values = weather_data[\"lat\"] * slope + intercept\n",
    "print(regress_values)"
   ]
  },
  {
   "cell_type": "code",
   "execution_count": 22,
   "metadata": {},
   "outputs": [
    {
     "name": "stdout",
     "output_type": "stream",
     "text": [
      "y = -0.73x +63.88\n"
     ]
    }
   ],
   "source": [
    "# Create line equation string\n",
    "line_eq = \"y = \" + str(round(slope,2)) + \"x +\" + str(round(intercept,2))\n",
    "print(line_eq)"
   ]
  },
  {
   "cell_type": "markdown",
   "metadata": {},
   "source": [
    "####  Northern Hemisphere - Max Temp vs. Latitude Linear Regression"
   ]
  },
  {
   "cell_type": "code",
   "execution_count": 23,
   "metadata": {},
   "outputs": [
    {
     "data": {
      "text/html": [
       "<div>\n",
       "<style scoped>\n",
       "    .dataframe tbody tr th:only-of-type {\n",
       "        vertical-align: middle;\n",
       "    }\n",
       "\n",
       "    .dataframe tbody tr th {\n",
       "        vertical-align: top;\n",
       "    }\n",
       "\n",
       "    .dataframe thead th {\n",
       "        text-align: right;\n",
       "    }\n",
       "</style>\n",
       "<table border=\"1\" class=\"dataframe\">\n",
       "  <thead>\n",
       "    <tr style=\"text-align: right;\">\n",
       "      <th></th>\n",
       "      <th>city</th>\n",
       "      <th>lat</th>\n",
       "      <th>lon</th>\n",
       "      <th>temp</th>\n",
       "      <th>humidity</th>\n",
       "      <th>cloudiness</th>\n",
       "      <th>windspeed</th>\n",
       "      <th>country</th>\n",
       "      <th>date</th>\n",
       "    </tr>\n",
       "  </thead>\n",
       "  <tbody>\n",
       "    <tr>\n",
       "      <th>0</th>\n",
       "      <td>Khuldābād</td>\n",
       "      <td>20.0500</td>\n",
       "      <td>75.1833</td>\n",
       "      <td>55.40</td>\n",
       "      <td>58</td>\n",
       "      <td>67</td>\n",
       "      <td>7.25</td>\n",
       "      <td>IN</td>\n",
       "      <td>1612736555</td>\n",
       "    </tr>\n",
       "    <tr>\n",
       "      <th>1</th>\n",
       "      <td>Albany</td>\n",
       "      <td>42.6001</td>\n",
       "      <td>-73.9662</td>\n",
       "      <td>28.99</td>\n",
       "      <td>64</td>\n",
       "      <td>100</td>\n",
       "      <td>5.01</td>\n",
       "      <td>US</td>\n",
       "      <td>1612736482</td>\n",
       "    </tr>\n",
       "    <tr>\n",
       "      <th>3</th>\n",
       "      <td>Atasū</td>\n",
       "      <td>48.6814</td>\n",
       "      <td>71.6433</td>\n",
       "      <td>26.96</td>\n",
       "      <td>95</td>\n",
       "      <td>100</td>\n",
       "      <td>16.28</td>\n",
       "      <td>KZ</td>\n",
       "      <td>1612736558</td>\n",
       "    </tr>\n",
       "    <tr>\n",
       "      <th>7</th>\n",
       "      <td>Asău</td>\n",
       "      <td>46.4333</td>\n",
       "      <td>26.4000</td>\n",
       "      <td>30.00</td>\n",
       "      <td>73</td>\n",
       "      <td>97</td>\n",
       "      <td>2.24</td>\n",
       "      <td>RO</td>\n",
       "      <td>1612736522</td>\n",
       "    </tr>\n",
       "    <tr>\n",
       "      <th>9</th>\n",
       "      <td>Khatanga</td>\n",
       "      <td>71.9667</td>\n",
       "      <td>102.5000</td>\n",
       "      <td>-29.72</td>\n",
       "      <td>79</td>\n",
       "      <td>0</td>\n",
       "      <td>10.65</td>\n",
       "      <td>RU</td>\n",
       "      <td>1612736565</td>\n",
       "    </tr>\n",
       "  </tbody>\n",
       "</table>\n",
       "</div>"
      ],
      "text/plain": [
       "        city      lat       lon   temp  humidity  cloudiness  windspeed  \\\n",
       "0  Khuldābād  20.0500   75.1833  55.40        58          67       7.25   \n",
       "1     Albany  42.6001  -73.9662  28.99        64         100       5.01   \n",
       "3      Atasū  48.6814   71.6433  26.96        95         100      16.28   \n",
       "7       Asău  46.4333   26.4000  30.00        73          97       2.24   \n",
       "9   Khatanga  71.9667  102.5000 -29.72        79           0      10.65   \n",
       "\n",
       "  country        date  \n",
       "0      IN  1612736555  \n",
       "1      US  1612736482  \n",
       "3      KZ  1612736558  \n",
       "7      RO  1612736522  \n",
       "9      RU  1612736565  "
      ]
     },
     "execution_count": 23,
     "metadata": {},
     "output_type": "execute_result"
    }
   ],
   "source": [
    "# Create Northern and Southern Hemisphere DataFrames\n",
    "nor_hem = weather_data.loc[weather_data[\"lat\"] >= 0]\n",
    "so_hem = weather_data.loc[weather_data[\"lat\"] < 0]\n",
    "nor_hem.head()"
   ]
  },
  {
   "cell_type": "code",
   "execution_count": 25,
   "metadata": {},
   "outputs": [
    {
     "name": "stdout",
     "output_type": "stream",
     "text": [
      "The r-value is: 0.6065270575458089\n"
     ]
    },
    {
     "data": {
      "image/png": "[encoded data removed]",
      "text/plain": [
       "<Figure size 432x288 with 1 Axes>"
      ]
     },
     "metadata": {
      "needs_background": "light"
     },
     "output_type": "display_data"
    }
   ],
   "source": [
    "# Create Plot\n",
    "plt.scatter(nor_hem['lat'],nor_hem['temp'])\n",
    "plt.plot(lat,regress_values,\"r-\")\n",
    "\n",
    "# Label plot and annotate the line equation\n",
    "plt.title(\"Northern Hemisphere - Max Temp vs. Latitude Linear Regression\")\n",
    "plt.xlabel('Latitude')\n",
    "plt.ylabel('Temperature')\n",
    "plt.annotate(line_eq,(20,15),fontsize=15,color=\"red\")\n",
    "\n",
    "# Print r value\n",
    "print(f\"The r-value is: {rvalue**2}\")\n",
    "\n",
    "# Show plot\n",
    "plt.show()"
   ]
  },
  {
   "cell_type": "markdown",
   "metadata": {},
   "source": [
    "####  Southern Hemisphere - Max Temp vs. Latitude Linear Regression"
   ]
  },
  {
   "cell_type": "code",
   "execution_count": null,
   "metadata": {},
   "outputs": [],
   "source": []
  },
  {
   "cell_type": "code",
   "execution_count": 26,
   "metadata": {},
   "outputs": [
    {
     "name": "stdout",
     "output_type": "stream",
     "text": [
      "The r-value is: 0.6065270575458089\n"
     ]
    },
    {
     "data": {
      "image/png": "[encoded data removed]",
      "text/plain": [
       "<Figure size 432x288 with 1 Axes>"
      ]
     },
     "metadata": {
      "needs_background": "light"
     },
     "output_type": "display_data"
    }
   ],
   "source": [
    "# Create Plot\n",
    "plt.scatter(so_hem['lat'],so_hem['temp'])\n",
    "plt.plot(lat,regress_values,\"r-\")\n",
    "\n",
    "# Label plot and annotate the line equation\n",
    "plt.title(\"Southern Hemisphere - Max Temp vs. Latitude Linear Regression\")\n",
    "plt.xlabel('Latitude')\n",
    "plt.ylabel('Temperature')\n",
    "plt.annotate(line_eq,(20,15),fontsize=15,color=\"red\")\n",
    "\n",
    "# Print r value\n",
    "print(f\"The r-value is: {rvalue**2}\")\n",
    "\n",
    "# Show plot\n",
    "plt.show()"
   ]
  },
  {
   "cell_type": "markdown",
   "metadata": {},
   "source": [
    "####  Northern Hemisphere - Humidity (%) vs. Latitude Linear Regression"
   ]
  },
  {
   "cell_type": "code",
   "execution_count": 27,
   "metadata": {},
   "outputs": [],
   "source": [
    "# Perform a linear regression on temperature vs. latitude\n",
    "(slope, intercept, rvalue, pvalue, stderr) = stats.linregress(weather_data[\"lat\"], weather_data[\"humidity\"])\n",
    "\n",
    "# Get regression values\n",
    "regress_values = weather_data[\"lat\"] * slope + intercept\n",
    "# Create line equation string\n",
    "line_eq = \"y = \" + str(round(slope,2)) + \"x +\" + str(round(intercept,2))"
   ]
  },
  {
   "cell_type": "code",
   "execution_count": 28,
   "metadata": {},
   "outputs": [
    {
     "name": "stdout",
     "output_type": "stream",
     "text": [
      "The r-value is: 0.008295316373052848\n"
     ]
    },
    {
     "data": {
      "image/png": "[encoded data removed]",
      "text/plain": [
       "<Figure size 432x288 with 1 Axes>"
      ]
     },
     "metadata": {
      "needs_background": "light"
     },
     "output_type": "display_data"
    }
   ],
   "source": [
    "# Create Plot\n",
    "plt.scatter(nor_hem['lat'],nor_hem['humidity'])\n",
    "plt.plot(lat,regress_values,\"r-\")\n",
    "\n",
    "# Label plot and annotate the line equation\n",
    "plt.title('Northern Hemisphere - Humidity (%) vs. Latitude Linear Regression')\n",
    "plt.xlabel('Latitude')\n",
    "plt.ylabel('Humidity')\n",
    "plt.annotate(line_eq,(20,15),fontsize=15,color=\"red\")\n",
    "\n",
    "# Print r value\n",
    "print(f\"The r-value is: {rvalue**2}\")\n",
    "\n",
    "# Show plot\n",
    "plt.show()"
   ]
  },
  {
   "cell_type": "markdown",
   "metadata": {},
   "source": [
    "####  Southern Hemisphere - Humidity (%) vs. Latitude Linear Regression"
   ]
  },
  {
   "cell_type": "code",
   "execution_count": 29,
   "metadata": {},
   "outputs": [
    {
     "name": "stdout",
     "output_type": "stream",
     "text": [
      "The r-value is: 0.008295316373052848\n"
     ]
    },
    {
     "data": {
      "image/png": "[encoded data removed]",
      "text/plain": [
       "<Figure size 432x288 with 1 Axes>"
      ]
     },
     "metadata": {
      "needs_background": "light"
     },
     "output_type": "display_data"
    }
   ],
   "source": [
    "# Create Plot\n",
    "plt.scatter(so_hem['lat'],so_hem['humidity'])\n",
    "plt.plot(lat,regress_values,\"r-\")\n",
    "\n",
    "# Label plot and annotate the line equation\n",
    "plt.title('Southern Hemisphere - Humidity (%) vs. Latitude Linear Regression')\n",
    "plt.xlabel('Latitude')\n",
    "plt.ylabel('Humidity')\n",
    "plt.annotate(line_eq,(20,15),fontsize=15,color=\"red\")\n",
    "\n",
    "# Print r value\n",
    "print(f\"The r-value is: {rvalue**2}\")\n",
    "\n",
    "# Show plot\n",
    "plt.show()"
   ]
  },
  {
   "cell_type": "markdown",
   "metadata": {},
   "source": [
    "####  Northern Hemisphere - Cloudiness (%) vs. Latitude Linear Regression"
   ]
  },
  {
   "cell_type": "code",
   "execution_count": 30,
   "metadata": {},
   "outputs": [],
   "source": [
    "# Perform a linear regression on temperature vs. latitude\n",
    "(slope, intercept, rvalue, pvalue, stderr) = stats.linregress(weather_data[\"lat\"], weather_data[\"cloudiness\"])\n",
    "\n",
    "# Get regression values\n",
    "regress_values = weather_data[\"lat\"] * slope + intercept\n",
    "# Create line equation string\n",
    "line_eq = \"y = \" + str(round(slope,2)) + \"x +\" + str(round(intercept,2))"
   ]
  },
  {
   "cell_type": "code",
   "execution_count": 31,
   "metadata": {},
   "outputs": [
    {
     "name": "stdout",
     "output_type": "stream",
     "text": [
      "The r-value is: 0.00017752148810311469\n"
     ]
    },
    {
     "data": {
      "image/png": "[encoded data removed]",
      "text/plain": [
       "<Figure size 432x288 with 1 Axes>"
      ]
     },
     "metadata": {
      "needs_background": "light"
     },
     "output_type": "display_data"
    }
   ],
   "source": [
    "# Create Plot\n",
    "plt.scatter(nor_hem['lat'],nor_hem['cloudiness'])\n",
    "plt.plot(lat,regress_values,\"r-\")\n",
    "\n",
    "# Label plot and annotate the line equation\n",
    "plt.title('Northern Hemisphere - Cloudiness (%) vs. Latitude Linear Regression')\n",
    "plt.xlabel('Latitude')\n",
    "plt.ylabel('Cloudiness')\n",
    "plt.annotate(line_eq,(20,15),fontsize=15,color=\"red\")\n",
    "\n",
    "# Print r value\n",
    "print(f\"The r-value is: {rvalue**2}\")\n",
    "\n",
    "# Show plot\n",
    "plt.show()"
   ]
  },
  {
   "cell_type": "markdown",
   "metadata": {},
   "source": [
    "####  Southern Hemisphere - Cloudiness (%) vs. Latitude Linear Regression"
   ]
  },
  {
   "cell_type": "code",
   "execution_count": 32,
   "metadata": {},
   "outputs": [
    {
     "name": "stdout",
     "output_type": "stream",
     "text": [
      "The r-value is: 0.00017752148810311469\n"
     ]
    },
    {
     "data": {
      "image/png": "[encoded data removed]",
      "text/plain": [
       "<Figure size 432x288 with 1 Axes>"
      ]
     },
     "metadata": {
      "needs_background": "light"
     },
     "output_type": "display_data"
    }
   ],
   "source": [
    "# Create Plot\n",
    "plt.scatter(so_hem['lat'],so_hem['cloudiness'])\n",
    "plt.plot(lat,regress_values,\"r-\")\n",
    "\n",
    "# Label plot and annotate the line equation\n",
    "plt.title('Southern Hemisphere - Cloudiness (%) vs. Latitude Linear Regression')\n",
    "plt.xlabel('Latitude')\n",
    "plt.ylabel('Cloudiness')\n",
    "plt.annotate(line_eq,(20,15),fontsize=15,color=\"red\")\n",
    "\n",
    "# Print r value\n",
    "print(f\"The r-value is: {rvalue**2}\")\n",
    "\n",
    "# Show plot\n",
    "plt.show()"
   ]
  },
  {
   "cell_type": "markdown",
   "metadata": {},
   "source": [
    "####  Northern Hemisphere - Wind Speed (mph) vs. Latitude Linear Regression"
   ]
  },
  {
   "cell_type": "code",
   "execution_count": 33,
   "metadata": {},
   "outputs": [],
   "source": [
    "# Perform a linear regression on temperature vs. latitude\n",
    "(slope, intercept, rvalue, pvalue, stderr) = stats.linregress(weather_data[\"lat\"], weather_data[\"windspeed\"])\n",
    "\n",
    "# Get regression values\n",
    "regress_values = weather_data[\"lat\"] * slope + intercept\n",
    "# Create line equation string\n",
    "line_eq = \"y = \" + str(round(slope,2)) + \"x +\" + str(round(intercept,2))"
   ]
  },
  {
   "cell_type": "code",
   "execution_count": 34,
   "metadata": {},
   "outputs": [
    {
     "name": "stdout",
     "output_type": "stream",
     "text": [
      "The r-value is: 0.017353388244983416\n"
     ]
    },
    {
     "data": {
      "image/png": "[encoded data removed]",
      "text/plain": [
       "<Figure size 432x288 with 1 Axes>"
      ]
     },
     "metadata": {
      "needs_background": "light"
     },
     "output_type": "display_data"
    }
   ],
   "source": [
    "# Create Plot\n",
    "plt.scatter(nor_hem['lat'],nor_hem['windspeed'])\n",
    "plt.plot(lat,regress_values,\"r-\")\n",
    "\n",
    "# Label plot and annotate the line equation\n",
    "plt.title('Northern Hemisphere - Wind Speed (mph) vs. Latitude Linear Regression')\n",
    "plt.xlabel('Latitude')\n",
    "plt.ylabel('Windspeed')\n",
    "plt.annotate(line_eq,(20,15),fontsize=15,color=\"red\")\n",
    "\n",
    "# Print r value\n",
    "print(f\"The r-value is: {rvalue**2}\")\n",
    "\n",
    "# Show plot\n",
    "plt.show()"
   ]
  },
  {
   "cell_type": "markdown",
   "metadata": {},
   "source": [
    "####  Southern Hemisphere - Wind Speed (mph) vs. Latitude Linear Regression"
   ]
  },
  {
   "cell_type": "code",
   "execution_count": 35,
   "metadata": {},
   "outputs": [
    {
     "name": "stdout",
     "output_type": "stream",
     "text": [
      "The r-value is: 0.017353388244983416\n"
     ]
    },
    {
     "data": {
      "image/png": "[encoded data removed]",
      "text/plain": [
       "<Figure size 432x288 with 1 Axes>"
      ]
     },
     "metadata": {
      "needs_background": "light"
     },
     "output_type": "display_data"
    }
   ],
   "source": [
    "# Create Plot\n",
    "plt.scatter(so_hem['lat'],so_hem['windspeed'])\n",
    "plt.plot(lat,regress_values,\"r-\")\n",
    "\n",
    "# Label plot and annotate the line equation\n",
    "plt.title('Southern Hemisphere - Wind Speed (mph) vs. Latitude Linear Regression')\n",
    "plt.xlabel('Latitude')\n",
    "plt.ylabel('Windspeed')\n",
    "plt.annotate(line_eq,(20,15),fontsize=15,color=\"red\")\n",
    "\n",
    "# Print r value\n",
    "print(f\"The r-value is: {rvalue**2}\")\n",
    "\n",
    "# Show plot\n",
    "plt.show()"
   ]
  },
  {
   "cell_type": "code",
   "execution_count": null,
   "metadata": {},
   "outputs": [],
   "source": []
  }
 ],
 "metadata": {
  "anaconda-cloud": {},
  "kernel_info": {
   "name": "python3"
  },
  "kernelspec": {
   "display_name": "Python 3",
   "language": "python",
   "name": "python3"
  },
  "language_info": {
   "codemirror_mode": {
    "name": "ipython",
    "version": 3
   },
   "file_extension": ".py",
   "mimetype": "text/x-python",
   "name": "python",
   "nbconvert_exporter": "python",
   "pygments_lexer": "ipython3",
   "version": "3.8.5"
  },
  "latex_envs": {
   "LaTeX_envs_menu_present": true,
   "autoclose": false,
   "autocomplete": true,
   "bibliofile": "biblio.bib",
   "cite_by": "apalike",
   "current_citInitial": 1,
   "eqLabelWithNumbers": true,
   "eqNumInitial": 1,
   "hotkeys": {
    "equation": "Ctrl-E",
    "itemize": "Ctrl-I"
   },
   "labels_anchors": false,
   "latex_user_defs": false,
   "report_style_numbering": false,
   "user_envs_cfg": false
  },
  "nteract": {
   "version": "0.12.3"
  }
 },
 "nbformat": 4,
 "nbformat_minor": 4
}
